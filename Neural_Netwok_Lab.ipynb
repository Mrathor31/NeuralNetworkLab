{
  "nbformat": 4,
  "nbformat_minor": 0,
  "metadata": {
    "colab": {
      "provenance": [],
      "authorship_tag": "ABX9TyNrlrhh5cScgw5Ne4F/1DBi",
      "include_colab_link": true
    },
    "kernelspec": {
      "name": "python3",
      "display_name": "Python 3"
    },
    "language_info": {
      "name": "python"
    }
  },
  "cells": [
    {
      "cell_type": "markdown",
      "metadata": {
        "id": "view-in-github",
        "colab_type": "text"
      },
      "source": [
        "<a href=\"https://colab.research.google.com/github/Mrathor31/NeuralNetworkLab/blob/main/Neural_Netwok_Lab.ipynb\" target=\"_parent\"><img src=\"https://colab.research.google.com/assets/colab-badge.svg\" alt=\"Open In Colab\"/></a>"
      ]
    },
    {
      "cell_type": "code",
      "execution_count": null,
      "metadata": {
        "id": "SnlXGMUW1Yvr"
      },
      "outputs": [],
      "source": []
    },
    {
      "cell_type": "markdown",
      "source": [
        "Date: 7-7-23\n",
        "Lab task 1"
      ],
      "metadata": {
        "id": "CNUC3RvZ1hsV"
      }
    },
    {
      "cell_type": "markdown",
      "source": [
        "AND Gate\n"
      ],
      "metadata": {
        "id": "qKZts6Fe9BSR"
      }
    },
    {
      "cell_type": "code",
      "source": [
        "import numpy as np"
      ],
      "metadata": {
        "id": "rBF2pkoY1suU"
      },
      "execution_count": 1,
      "outputs": []
    },
    {
      "cell_type": "code",
      "source": [
        "X = np.asarray([[0,0],[0,1],[1,0],[1,1]])\n",
        "y = np.asarray([0,0,0,1])\n",
        "y_prod = np.zeros(4)\n",
        "\n",
        "weights = np.asarray([1,1])\n",
        "\n",
        "threshold = 1.5\n",
        "\n",
        "for index in range(X.shape[0]):\n",
        "  x=X[index]\n",
        "  sum=np.dot(x,weights)\n",
        "  if sum>=threshold:\n",
        "    y_prod[index]=1\n",
        "  else:\n",
        "    y_prod[index]=0\n",
        "\n",
        "\n",
        "print(y_prod)\n",
        "\n",
        "\n"
      ],
      "metadata": {
        "colab": {
          "base_uri": "https://localhost:8080/"
        },
        "id": "NnBt_--64pHr",
        "outputId": "46a22a22-a603-4e53-8f41-11f05c17ba70"
      },
      "execution_count": 3,
      "outputs": [
        {
          "output_type": "stream",
          "name": "stdout",
          "text": [
            "[0. 0. 0. 1.]\n"
          ]
        }
      ]
    },
    {
      "cell_type": "markdown",
      "source": [
        "OR Gate"
      ],
      "metadata": {
        "id": "L07ngZFL9NTI"
      }
    },
    {
      "cell_type": "code",
      "source": [
        "X = np.asarray([[0,0],[0,1],[1,0],[1,1]])\n",
        "y = np.asarray([0,0,0,1])\n",
        "y_prod = np.zeros(4)\n",
        "\n",
        "weights = np.asarray([1,1])\n",
        "\n",
        "threshold = 1\n",
        "\n",
        "for index in range(X.shape[0]):\n",
        "  x=X[index]\n",
        "  sum=np.dot(x,weights)\n",
        "  if sum>=threshold:\n",
        "    y_prod[index]=1\n",
        "  else:\n",
        "    y_prod[index]=0\n",
        "\n",
        "\n",
        "print(y_prod)"
      ],
      "metadata": {
        "colab": {
          "base_uri": "https://localhost:8080/"
        },
        "id": "vEyKsNvA9Ps7",
        "outputId": "ba8c9a4c-10dd-437b-d0b3-4c9813f5b5b3"
      },
      "execution_count": 4,
      "outputs": [
        {
          "output_type": "stream",
          "name": "stdout",
          "text": [
            "[0. 1. 1. 1.]\n"
          ]
        }
      ]
    }
  ]
}